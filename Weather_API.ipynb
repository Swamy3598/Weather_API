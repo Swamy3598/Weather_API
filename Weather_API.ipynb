{
  "nbformat": 4,
  "nbformat_minor": 0,
  "metadata": {
    "colab": {
      "provenance": [],
      "authorship_tag": "ABX9TyOrKG8auRaLF9wsHyrMli3P",
      "include_colab_link": true
    },
    "kernelspec": {
      "name": "python3",
      "display_name": "Python 3"
    },
    "language_info": {
      "name": "python"
    }
  },
  "cells": [
    {
      "cell_type": "markdown",
      "metadata": {
        "id": "view-in-github",
        "colab_type": "text"
      },
      "source": [
        "<a href=\"https://colab.research.google.com/github/Charishma-Bailapudi/Weather_API/blob/main/Weather_API.ipynb\" target=\"_parent\"><img src=\"https://colab.research.google.com/assets/colab-badge.svg\" alt=\"Open In Colab\"/></a>"
      ]
    },
    {
      "cell_type": "markdown",
      "source": [
        "# **Weather API Using OIKO API Service**"
      ],
      "metadata": {
        "id": "9vl9-KOb1LD7"
      }
    },
    {
      "cell_type": "markdown",
      "source": [
        "## **Task  1- Get the Weather of a Particular City on a Date.**\n"
      ],
      "metadata": {
        "id": "hSirN9V71ecj"
      }
    },
    {
      "cell_type": "code",
      "source": [
        "import requests\n",
        "import json\n",
        "import datetime\n",
        "import pandas as pd"
      ],
      "metadata": {
        "id": "C4uQsiMW1Bpg"
      },
      "execution_count": 13,
      "outputs": []
    },
    {
      "cell_type": "markdown",
      "source": [
        "### *1.Get the URL for the OIKO API*\n",
        "### *2.GET the API key which is issued by the oiko service*\n",
        "### *3.Give a start and end date for which you want the weather of a city need to be retrieved* "
      ],
      "metadata": {
        "id": "yQhVGG8X1yRQ"
      }
    },
    {
      "cell_type": "code",
      "source": [
        "def get_temperature(city,start,end):\n",
        "  OIKO_KEY =  '8416c64d40484f20b389854f9a164001'\n",
        "  URL = 'https://api.oikolab.com/weather'\n",
        "  r = requests.get(URL,\n",
        "                  params={'param': ['temperature'],\n",
        "                          'start': start,\n",
        "                          'end': end,\n",
        "                          'location':city,\n",
        "                          'freq':'D', #day-wise\n",
        "                          'api-key': OIKO_KEY\n",
        "                          }\n",
        "                  )\n",
        "  weather_data = json.loads(r.json()['data'])\n",
        "  df = pd.DataFrame(index=pd.to_datetime(weather_data[\"index\"],unit='s'),\n",
        "                  data=weather_data['data'],\n",
        "                  columns=weather_data['columns'])\n",
        "  temp = df.iloc[0,4]\n",
        "  return temp"
      ],
      "metadata": {
        "id": "zqR42nxP2Nty"
      },
      "execution_count": 14,
      "outputs": []
    },
    {
      "cell_type": "markdown",
      "source": [
        "### *Give the city name and the Date you want the temperature to be retrieved.*"
      ],
      "metadata": {
        "id": "tabOR_eO2Se1"
      }
    },
    {
      "cell_type": "code",
      "source": [
        "city = input()\n",
        "date = input()\n",
        "temp = get_temperature(city,date,date)\n",
        "print(f'Temperature for {city} on {date} = {temp}C')"
      ],
      "metadata": {
        "colab": {
          "base_uri": "https://localhost:8080/"
        },
        "id": "oz6AOy5m2SDD",
        "outputId": "79f8cb59-e6e3-401a-e690-9627acfbece3"
      },
      "execution_count": 15,
      "outputs": [
        {
          "output_type": "stream",
          "name": "stdout",
          "text": [
            "Mumbai\n",
            "2022-12-02\n",
            "Temperature for Mumbai on 2022-12-02 = 26.58C\n"
          ]
        }
      ]
    },
    {
      "cell_type": "markdown",
      "source": [
        "## **Task-2 Choose the best city among two given cities for which the variance is least.**"
      ],
      "metadata": {
        "id": "RTh-39rI2ex7"
      }
    },
    {
      "cell_type": "markdown",
      "source": [
        "### *Choose a span of 7-days and Calculate the variance for the temperatures of the city Finally Choose the Best the city which has a least variance and best suited for the holiday trip.*"
      ],
      "metadata": {
        "id": "bp0UrjPV2ubF"
      }
    },
    {
      "cell_type": "markdown",
      "source": [
        "### *Finally Choose the Best the city which has a least variance and best suited for the holiday trip.*"
      ],
      "metadata": {
        "id": "e_FuzkhM25pY"
      }
    },
    {
      "cell_type": "code",
      "source": [
        "city1 = input()\n",
        "city2 = input()\n",
        "date =input() \n",
        "start_date = date.split('-')\n",
        "obj1 = datetime.datetime(int(start_date[0]),int(start_date[1]),int(start_date[2]))\n",
        "obj2 = obj1 + datetime.timedelta(days=7) # we are adding +7 days to current date\n",
        "start_date = obj1.strftime('%y-%m-%d')\n",
        "end_date = obj2.strftime('%y-%m-%d')\n",
        "city1_var = get_temperature(city1,start_date,end_date).var()\n",
        "city2_var = get_temperature(city2,start_date,end_date).var()\n",
        "\n",
        "if city1_var < city2_var:\n",
        "    print(f'We choose {city1} because of less temperature variance')\n",
        "else:\n",
        "    print(f'We choose {city2} because of less temperature variance')\n"
      ],
      "metadata": {
        "colab": {
          "base_uri": "https://localhost:8080/"
        },
        "id": "zCpf7D04e4nr",
        "outputId": "3bbfb353-2bf9-4109-8a3b-82dfc4324706"
      },
      "execution_count": 16,
      "outputs": [
        {
          "output_type": "stream",
          "name": "stdout",
          "text": [
            "Delhi\n",
            "Muumbai\n",
            "2022-12-02\n",
            "We choose Muumbai because of less temperature variance\n"
          ]
        }
      ]
    }
  ]
}